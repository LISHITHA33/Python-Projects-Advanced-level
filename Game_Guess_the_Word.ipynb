{
  "nbformat": 4,
  "nbformat_minor": 0,
  "metadata": {
    "colab": {
      "name": "Game-Guess the Word.ipynb",
      "provenance": [],
      "authorship_tag": "ABX9TyNqIBfZebcZWI7aYiY6SQKY"
    },
    "kernelspec": {
      "name": "python3",
      "display_name": "Python 3"
    },
    "language_info": {
      "name": "python"
    }
  },
  "cells": [
    {
      "cell_type": "code",
      "execution_count": null,
      "metadata": {
        "id": "iOfKwpA1tIS-"
      },
      "outputs": [],
      "source": [
        "import random\n",
        "words = ['rainbow', 'computer', 'science', 'programming',\n",
        "\t\t'python', 'mathematics', 'player', 'condition',\n",
        "\t\t'reverse', 'water', 'board', 'geeks']\n",
        "word = random.choice(words)\n",
        "#print(word)\n",
        "print('Guess the Characters: ')\n",
        "guesses = ''\n",
        "turns = 12\n",
        "while turns > 0:\n",
        "  failed = 0\n",
        "  for char in word:\n",
        "    if char in guesses:\n",
        "      print(char)\n",
        "    else:\n",
        "      print('_')\n",
        "      failed += 1\n",
        "  if failed == 0:\n",
        "    print(\"You Win\")\n",
        "    print(\"The word is\", word)\n",
        "    break\n",
        "  guess = input(\"guess a character:\")\n",
        "  guesses += guess\n",
        "  if guess not in word:\n",
        "    turns -= 1\n",
        "    print(\"Wrong\")\n",
        "    print(\"You have\", + turns, 'more guesses')\n",
        "  if turns == 0:\n",
        "    print(\"You Loose\")\n",
        "    print(\"The word is \", word)\n"
      ]
    }
  ]
}